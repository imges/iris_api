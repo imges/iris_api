{
 "cells": [
  {
   "cell_type": "code",
   "execution_count": 21,
   "metadata": {},
   "outputs": [],
   "source": [
    "import requests\n",
    "import json\n",
    "from pprint import pprint"
   ]
  },
  {
   "cell_type": "code",
   "execution_count": 22,
   "metadata": {},
   "outputs": [],
   "source": [
    "url = 'http://localhost:8000/{}'"
   ]
  },
  {
   "cell_type": "code",
   "execution_count": 31,
   "metadata": {},
   "outputs": [
    {
     "name": "stdout",
     "output_type": "stream",
     "text": [
      "[{'label': 'setosa',\n",
      "  'petal_length': 1.4,\n",
      "  'petal_width': 0.2,\n",
      "  'sepal_length': 5.1,\n",
      "  'sepal_width': 3.5},\n",
      " {'label': 'setosa',\n",
      "  'petal_length': 1.4,\n",
      "  'petal_width': 0.2,\n",
      "  'sepal_length': 5.0,\n",
      "  'sepal_width': 3.6},\n",
      " {'label': 'setosa',\n",
      "  'petal_length': 1.5,\n",
      "  'petal_width': 0.2,\n",
      "  'sepal_length': 5.0,\n",
      "  'sepal_width': 3.4},\n",
      " {'label': 'setosa',\n",
      "  'petal_length': 1.4,\n",
      "  'petal_width': 0.3,\n",
      "  'sepal_length': 5.1,\n",
      "  'sepal_width': 3.5},\n",
      " {'label': 'setosa',\n",
      "  'petal_length': 1.5,\n",
      "  'petal_width': 0.3,\n",
      "  'sepal_length': 5.1,\n",
      "  'sepal_width': 3.8},\n",
      " {'label': 'setosa',\n",
      "  'petal_length': 1.5,\n",
      "  'petal_width': 0.4,\n",
      "  'sepal_length': 5.1,\n",
      "  'sepal_width': 3.7},\n",
      " {'label': 'setosa',\n",
      "  'petal_length': 1.7,\n",
      "  'petal_width': 0.5,\n",
      "  'sepal_length': 5.1,\n",
      "  'sepal_width': 3.3},\n",
      " {'label': 'setosa',\n",
      "  'petal_length': 1.6,\n",
      "  'petal_width': 0.2,\n",
      "  'sepal_length': 5.0,\n",
      "  'sepal_width': 3.0},\n",
      " {'label': 'setosa',\n",
      "  'petal_length': 1.6,\n",
      "  'petal_width': 0.4,\n",
      "  'sepal_length': 5.0,\n",
      "  'sepal_width': 3.4},\n",
      " {'label': 'setosa',\n",
      "  'petal_length': 1.2,\n",
      "  'petal_width': 0.2,\n",
      "  'sepal_length': 5.0,\n",
      "  'sepal_width': 3.2},\n",
      " {'label': 'setosa',\n",
      "  'petal_length': 1.5,\n",
      "  'petal_width': 0.2,\n",
      "  'sepal_length': 5.1,\n",
      "  'sepal_width': 3.4},\n",
      " {'label': 'setosa',\n",
      "  'petal_length': 1.3,\n",
      "  'petal_width': 0.3,\n",
      "  'sepal_length': 5.0,\n",
      "  'sepal_width': 3.5},\n",
      " {'label': 'setosa',\n",
      "  'petal_length': 1.6,\n",
      "  'petal_width': 0.6,\n",
      "  'sepal_length': 5.0,\n",
      "  'sepal_width': 3.5},\n",
      " {'label': 'setosa',\n",
      "  'petal_length': 1.9,\n",
      "  'petal_width': 0.4,\n",
      "  'sepal_length': 5.1,\n",
      "  'sepal_width': 3.8},\n",
      " {'label': 'setosa',\n",
      "  'petal_length': 1.6,\n",
      "  'petal_width': 0.2,\n",
      "  'sepal_length': 5.1,\n",
      "  'sepal_width': 3.8},\n",
      " {'label': 'setosa',\n",
      "  'petal_length': 1.4,\n",
      "  'petal_width': 0.2,\n",
      "  'sepal_length': 5.0,\n",
      "  'sepal_width': 3.3}]\n"
     ]
    }
   ],
   "source": [
    "# Get ranges by specifying lower and upper bounds and species\n",
    "req = {'species': 'setosa', 'lower': {'sepal_length': 5.0, 'sepal_width': 3.0}, 'upper': {'sepal_length': 5.1}}\n",
    "resp = requests.post(url.format('range'), data=json.dumps(req))\n",
    "pprint(resp.json())"
   ]
  },
  {
   "cell_type": "code",
   "execution_count": 38,
   "metadata": {},
   "outputs": [
    {
     "name": "stdout",
     "output_type": "stream",
     "text": [
      "[{'label': 'setosa',\n",
      "  'mean_petal_length': 1.462,\n",
      "  'mean_petal_width': 0.24600000000000002,\n",
      "  'mean_sepal_length': 5.006,\n",
      "  'mean_sepal_width': 3.428},\n",
      " {'label': 'virginica',\n",
      "  'mean_petal_length': 5.5520000000000005,\n",
      "  'mean_petal_width': 2.026,\n",
      "  'mean_sepal_length': 6.587999999999999,\n",
      "  'mean_sepal_width': 2.9739999999999998},\n",
      " {'label': 'versicolor',\n",
      "  'mean_petal_length': 4.26,\n",
      "  'mean_petal_width': 1.3259999999999998,\n",
      "  'mean_sepal_length': 5.936,\n",
      "  'mean_sepal_width': 2.77}]\n"
     ]
    }
   ],
   "source": [
    "# Get mean statistics for all species\n",
    "req = {}\n",
    "resp = requests.post(url.format('stats/mean'), data=json.dumps(req))\n",
    "pprint(resp.json())"
   ]
  },
  {
   "cell_type": "code",
   "execution_count": 37,
   "metadata": {},
   "outputs": [
    {
     "name": "stdout",
     "output_type": "stream",
     "text": [
      "[{'label': 'versicolor',\n",
      "  'mean_petal_length': 4.26,\n",
      "  'mean_petal_width': 1.3259999999999998,\n",
      "  'mean_sepal_length': 5.936,\n",
      "  'mean_sepal_width': 2.77},\n",
      " {'label': 'setosa',\n",
      "  'mean_petal_length': 1.462,\n",
      "  'mean_petal_width': 0.24600000000000002,\n",
      "  'mean_sepal_length': 5.006,\n",
      "  'mean_sepal_width': 3.428}]\n"
     ]
    }
   ],
   "source": [
    "# Get mean statistics by specifying only species\n",
    "req = {'species': ['setosa', 'versicolor']}\n",
    "resp = requests.post(url.format('stats/mean'), data=json.dumps(req))\n",
    "pprint(resp.json())"
   ]
  },
  {
   "cell_type": "code",
   "execution_count": 36,
   "metadata": {},
   "outputs": [
    {
     "name": "stdout",
     "output_type": "stream",
     "text": [
      "[{'label': 'versicolor',\n",
      "  'mean_petal_length': 4.425,\n",
      "  'mean_petal_width': 1.475,\n",
      "  'mean_sepal_length': 5.775,\n",
      "  'mean_sepal_width': 3.075},\n",
      " {'label': 'setosa',\n",
      "  'mean_petal_length': 1.4666666666666668,\n",
      "  'mean_petal_width': 0.24583333333333335,\n",
      "  'mean_sepal_length': 5.029166666666667,\n",
      "  'mean_sepal_width': 3.4625}]\n"
     ]
    }
   ],
   "source": [
    "req = {'species': ['setosa', 'versicolor'], 'lower': {'sepal_width': 3.0}, 'upper': {'sepal_length': 6.1}}\n",
    "resp = requests.post(url.format('stats/mean'), data=json.dumps(req))\n",
    "pprint(resp.json())"
   ]
  },
  {
   "cell_type": "code",
   "execution_count": null,
   "metadata": {},
   "outputs": [],
   "source": []
  }
 ],
 "metadata": {
  "kernelspec": {
   "display_name": "Python 3",
   "language": "python",
   "name": "python3"
  },
  "language_info": {
   "codemirror_mode": {
    "name": "ipython",
    "version": 3
   },
   "file_extension": ".py",
   "mimetype": "text/x-python",
   "name": "python",
   "nbconvert_exporter": "python",
   "pygments_lexer": "ipython3",
   "version": "3.8.1"
  }
 },
 "nbformat": 4,
 "nbformat_minor": 1
}
